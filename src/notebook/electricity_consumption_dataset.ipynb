{
 "cells": [
  {
   "cell_type": "code",
   "execution_count": 3,
   "metadata": {},
   "outputs": [],
   "source": [
    "import matplotlib as mpl\n",
    "import matplotlib.pyplot as plt\n",
    "import numpy as np\n",
    "import os\n",
    "from datetime import datetime\n",
    "import pandas as pd"
   ]
  },
  {
   "cell_type": "code",
   "execution_count": 6,
   "metadata": {},
   "outputs": [
    {
     "data": {
      "text/html": [
       "<div>\n",
       "<style scoped>\n",
       "    .dataframe tbody tr th:only-of-type {\n",
       "        vertical-align: middle;\n",
       "    }\n",
       "\n",
       "    .dataframe tbody tr th {\n",
       "        vertical-align: top;\n",
       "    }\n",
       "\n",
       "    .dataframe thead th {\n",
       "        text-align: right;\n",
       "    }\n",
       "</style>\n",
       "<table border=\"1\" class=\"dataframe\">\n",
       "  <thead>\n",
       "    <tr style=\"text-align: right;\">\n",
       "      <th></th>\n",
       "      <th>Bill_Date</th>\n",
       "      <th>On_peak</th>\n",
       "      <th>Off_peak</th>\n",
       "      <th>Usage_charge</th>\n",
       "      <th>Billed_amount</th>\n",
       "      <th>Billing_days</th>\n",
       "    </tr>\n",
       "  </thead>\n",
       "  <tbody>\n",
       "    <tr>\n",
       "      <th>0</th>\n",
       "      <td>1/1/2016</td>\n",
       "      <td>365</td>\n",
       "      <td>1423.5</td>\n",
       "      <td>219.0</td>\n",
       "      <td>247.73</td>\n",
       "      <td>31</td>\n",
       "    </tr>\n",
       "    <tr>\n",
       "      <th>1</th>\n",
       "      <td>2/1/2016</td>\n",
       "      <td>292</td>\n",
       "      <td>1138.8</td>\n",
       "      <td>175.2</td>\n",
       "      <td>234.11</td>\n",
       "      <td>31</td>\n",
       "    </tr>\n",
       "    <tr>\n",
       "      <th>2</th>\n",
       "      <td>3/1/2016</td>\n",
       "      <td>130</td>\n",
       "      <td>507.0</td>\n",
       "      <td>78.0</td>\n",
       "      <td>123.85</td>\n",
       "      <td>29</td>\n",
       "    </tr>\n",
       "    <tr>\n",
       "      <th>3</th>\n",
       "      <td>4/1/2016</td>\n",
       "      <td>117</td>\n",
       "      <td>456.3</td>\n",
       "      <td>70.2</td>\n",
       "      <td>111.22</td>\n",
       "      <td>29</td>\n",
       "    </tr>\n",
       "    <tr>\n",
       "      <th>4</th>\n",
       "      <td>5/1/2016</td>\n",
       "      <td>136</td>\n",
       "      <td>530.4</td>\n",
       "      <td>81.6</td>\n",
       "      <td>118.37</td>\n",
       "      <td>29</td>\n",
       "    </tr>\n",
       "  </tbody>\n",
       "</table>\n",
       "</div>"
      ],
      "text/plain": [
       "  Bill_Date  On_peak  Off_peak  Usage_charge  Billed_amount  Billing_days\n",
       "0  1/1/2016      365    1423.5         219.0         247.73            31\n",
       "1  2/1/2016      292    1138.8         175.2         234.11            31\n",
       "2  3/1/2016      130     507.0          78.0         123.85            29\n",
       "3  4/1/2016      117     456.3          70.2         111.22            29\n",
       "4  5/1/2016      136     530.4          81.6         118.37            29"
      ]
     },
     "execution_count": 6,
     "metadata": {},
     "output_type": "execute_result"
    }
   ],
   "source": [
    "df = pd.read_csv('https://raw.githubusercontent.com/srivatsan88/YouTubeLI/master/dataset/electricity_consumption.csv')\n",
    "df.head()"
   ]
  },
  {
   "cell_type": "code",
   "execution_count": 7,
   "metadata": {},
   "outputs": [
    {
     "name": "stdout",
     "output_type": "stream",
     "text": [
      "Rows     :  53\n",
      "Columns  :  6\n",
      "\n",
      "Features : \n",
      " ['Bill_Date', 'On_peak', 'Off_peak', 'Usage_charge', 'Billed_amount', 'Billing_days']\n",
      "\n",
      "Missing values :   Bill_Date        False\n",
      "On_peak          False\n",
      "Off_peak         False\n",
      "Usage_charge     False\n",
      "Billed_amount    False\n",
      "Billing_days     False\n",
      "dtype: bool\n",
      "\n",
      "Unique values :  \n",
      " Bill_Date        53\n",
      "On_peak          51\n",
      "Off_peak         53\n",
      "Usage_charge     53\n",
      "Billed_amount    52\n",
      "Billing_days      9\n",
      "dtype: int64\n"
     ]
    }
   ],
   "source": [
    "print (\"Rows     : \" ,df.shape[0])\n",
    "print (\"Columns  : \" ,df.shape[1])\n",
    "print (\"\\nFeatures : \\n\" ,df.columns.tolist())\n",
    "print (\"\\nMissing values :  \", df.isnull().any())\n",
    "print (\"\\nUnique values :  \\n\",df.nunique())"
   ]
  },
  {
   "cell_type": "code",
   "execution_count": 13,
   "metadata": {},
   "outputs": [],
   "source": [
    "df['Bill_Date'] = pd.to_datetime(df['Bill_Date'])"
   ]
  },
  {
   "cell_type": "code",
   "execution_count": 14,
   "metadata": {},
   "outputs": [],
   "source": [
    "bill_df=df.set_index(\"Bill_Date\")"
   ]
  },
  {
   "cell_type": "code",
   "execution_count": 15,
   "metadata": {},
   "outputs": [
    {
     "data": {
      "text/html": [
       "<div>\n",
       "<style scoped>\n",
       "    .dataframe tbody tr th:only-of-type {\n",
       "        vertical-align: middle;\n",
       "    }\n",
       "\n",
       "    .dataframe tbody tr th {\n",
       "        vertical-align: top;\n",
       "    }\n",
       "\n",
       "    .dataframe thead th {\n",
       "        text-align: right;\n",
       "    }\n",
       "</style>\n",
       "<table border=\"1\" class=\"dataframe\">\n",
       "  <thead>\n",
       "    <tr style=\"text-align: right;\">\n",
       "      <th></th>\n",
       "      <th>On_peak</th>\n",
       "      <th>Off_peak</th>\n",
       "      <th>Usage_charge</th>\n",
       "      <th>Billed_amount</th>\n",
       "      <th>Billing_days</th>\n",
       "    </tr>\n",
       "    <tr>\n",
       "      <th>Bill_Date</th>\n",
       "      <th></th>\n",
       "      <th></th>\n",
       "      <th></th>\n",
       "      <th></th>\n",
       "      <th></th>\n",
       "    </tr>\n",
       "  </thead>\n",
       "  <tbody>\n",
       "    <tr>\n",
       "      <th>2016-01-01</th>\n",
       "      <td>365</td>\n",
       "      <td>1423.5</td>\n",
       "      <td>219.0</td>\n",
       "      <td>247.73</td>\n",
       "      <td>31</td>\n",
       "    </tr>\n",
       "    <tr>\n",
       "      <th>2016-02-01</th>\n",
       "      <td>292</td>\n",
       "      <td>1138.8</td>\n",
       "      <td>175.2</td>\n",
       "      <td>234.11</td>\n",
       "      <td>31</td>\n",
       "    </tr>\n",
       "    <tr>\n",
       "      <th>2016-03-01</th>\n",
       "      <td>130</td>\n",
       "      <td>507.0</td>\n",
       "      <td>78.0</td>\n",
       "      <td>123.85</td>\n",
       "      <td>29</td>\n",
       "    </tr>\n",
       "    <tr>\n",
       "      <th>2016-04-01</th>\n",
       "      <td>117</td>\n",
       "      <td>456.3</td>\n",
       "      <td>70.2</td>\n",
       "      <td>111.22</td>\n",
       "      <td>29</td>\n",
       "    </tr>\n",
       "    <tr>\n",
       "      <th>2016-05-01</th>\n",
       "      <td>136</td>\n",
       "      <td>530.4</td>\n",
       "      <td>81.6</td>\n",
       "      <td>118.37</td>\n",
       "      <td>29</td>\n",
       "    </tr>\n",
       "  </tbody>\n",
       "</table>\n",
       "</div>"
      ],
      "text/plain": [
       "            On_peak  Off_peak  Usage_charge  Billed_amount  Billing_days\n",
       "Bill_Date                                                               \n",
       "2016-01-01      365    1423.5         219.0         247.73            31\n",
       "2016-02-01      292    1138.8         175.2         234.11            31\n",
       "2016-03-01      130     507.0          78.0         123.85            29\n",
       "2016-04-01      117     456.3          70.2         111.22            29\n",
       "2016-05-01      136     530.4          81.6         118.37            29"
      ]
     },
     "execution_count": 15,
     "metadata": {},
     "output_type": "execute_result"
    }
   ],
   "source": [
    "bill_df.head()"
   ]
  },
  {
   "cell_type": "code",
   "execution_count": 17,
   "metadata": {},
   "outputs": [
    {
     "data": {
      "text/html": [
       "<div>\n",
       "<style scoped>\n",
       "    .dataframe tbody tr th:only-of-type {\n",
       "        vertical-align: middle;\n",
       "    }\n",
       "\n",
       "    .dataframe tbody tr th {\n",
       "        vertical-align: top;\n",
       "    }\n",
       "\n",
       "    .dataframe thead th {\n",
       "        text-align: right;\n",
       "    }\n",
       "</style>\n",
       "<table border=\"1\" class=\"dataframe\">\n",
       "  <thead>\n",
       "    <tr style=\"text-align: right;\">\n",
       "      <th></th>\n",
       "      <th>Billed_amount</th>\n",
       "    </tr>\n",
       "    <tr>\n",
       "      <th>Bill_Date</th>\n",
       "      <th></th>\n",
       "    </tr>\n",
       "  </thead>\n",
       "  <tbody>\n",
       "    <tr>\n",
       "      <th>2016-01-01</th>\n",
       "      <td>247.73</td>\n",
       "    </tr>\n",
       "    <tr>\n",
       "      <th>2016-02-01</th>\n",
       "      <td>234.11</td>\n",
       "    </tr>\n",
       "    <tr>\n",
       "      <th>2016-03-01</th>\n",
       "      <td>123.85</td>\n",
       "    </tr>\n",
       "    <tr>\n",
       "      <th>2016-04-01</th>\n",
       "      <td>111.22</td>\n",
       "    </tr>\n",
       "    <tr>\n",
       "      <th>2016-05-01</th>\n",
       "      <td>118.37</td>\n",
       "    </tr>\n",
       "  </tbody>\n",
       "</table>\n",
       "</div>"
      ],
      "text/plain": [
       "            Billed_amount\n",
       "Bill_Date                \n",
       "2016-01-01         247.73\n",
       "2016-02-01         234.11\n",
       "2016-03-01         123.85\n",
       "2016-04-01         111.22\n",
       "2016-05-01         118.37"
      ]
     },
     "execution_count": 17,
     "metadata": {},
     "output_type": "execute_result"
    }
   ],
   "source": [
    "bill_2018 = bill_df['2016':'2018'][['Billed_amount']]\n",
    "bill_2018.head()"
   ]
  },
  {
   "cell_type": "markdown",
   "metadata": {},
   "source": [
    "Simple moving average = (t + (t-1) + (t-2) + ... + (t-n)) / n"
   ]
  },
  {
   "cell_type": "code",
   "execution_count": null,
   "metadata": {},
   "outputs": [],
   "source": [
    "bill_2018['Billed_amount'].rolling(window=3).mean()"
   ]
  }
 ],
 "metadata": {
  "kernelspec": {
   "display_name": "venv",
   "language": "python",
   "name": "python3"
  },
  "language_info": {
   "codemirror_mode": {
    "name": "ipython",
    "version": 3
   },
   "file_extension": ".py",
   "mimetype": "text/x-python",
   "name": "python",
   "nbconvert_exporter": "python",
   "pygments_lexer": "ipython3",
   "version": "3.12.3"
  }
 },
 "nbformat": 4,
 "nbformat_minor": 2
}
